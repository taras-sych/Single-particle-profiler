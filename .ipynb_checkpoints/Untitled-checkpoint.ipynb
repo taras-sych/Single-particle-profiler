{
 "cells": [
  {
   "cell_type": "markdown",
   "metadata": {},
   "source": [
    "#=============================================¶\n",
    "Import dataset:\n",
    "============================================="
   ]
  },
  {
   "cell_type": "code",
   "execution_count": 2,
   "metadata": {},
   "outputs": [
    {
     "ename": "SyntaxError",
     "evalue": "(unicode error) 'unicodeescape' codec can't decode bytes in position 2-3: truncated \\UXXXXXXXX escape (<ipython-input-2-8164c95ec8ea>, line 5)",
     "output_type": "error",
     "traceback": [
      "\u001b[1;36m  File \u001b[1;32m\"<ipython-input-2-8164c95ec8ea>\"\u001b[1;36m, line \u001b[1;32m5\u001b[0m\n\u001b[1;33m    filename = \"C:\\Users\\taras.sych\\Science\\Program development\\FCCS as FACS\\2021.03.25 - PyProfiler v1.2\\EVs 57 mCherry + Pro12A high.fcs\"\u001b[0m\n\u001b[1;37m              ^\u001b[0m\n\u001b[1;31mSyntaxError\u001b[0m\u001b[1;31m:\u001b[0m (unicode error) 'unicodeescape' codec can't decode bytes in position 2-3: truncated \\UXXXXXXXX escape\n"
     ]
    }
   ],
   "source": [
    "import fcs_importer\n",
    "\n",
    "import codecs\n",
    "\n",
    "filename = \"C:\\\\Users\\\\taras.sych\\\\Science\\\\Program development\\\\FCCS as FACS\\\\2021.03.25 - PyProfiler v1.2\\\\EVs 57 mCherry + Pro12A high.fcs\"\n",
    "\n",
    "file = codecs.open (filename, encoding='latin')\n",
    "\n",
    "lines = file.readlines()\n",
    "\n",
    "if filename.endswith('.fcs'):\n",
    "    print(fcs_importer.Find_channels_and_repetitions (lines))\n"
   ]
  },
  {
   "cell_type": "code",
   "execution_count": null,
   "metadata": {},
   "outputs": [],
   "source": []
  }
 ],
 "metadata": {
  "kernelspec": {
   "display_name": "Python 3",
   "language": "python",
   "name": "python3"
  },
  "language_info": {
   "codemirror_mode": {
    "name": "ipython",
    "version": 3
   },
   "file_extension": ".py",
   "mimetype": "text/x-python",
   "name": "python",
   "nbconvert_exporter": "python",
   "pygments_lexer": "ipython3",
   "version": "3.7.6"
  }
 },
 "nbformat": 4,
 "nbformat_minor": 4
}
